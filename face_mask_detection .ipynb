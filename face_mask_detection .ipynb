{
 "cells": [
  {
   "cell_type": "code",
   "execution_count": null,
   "metadata": {},
   "outputs": [],
   "source": [
    "import cv2\n",
    "import numpy as np"
   ]
  },
  {
   "cell_type": "markdown",
   "metadata": {},
   "source": [
    "Now we create our yolo model by help of cfg and final weight trained by darkn"
   ]
  },
  {
   "cell_type": "code",
   "execution_count": null,
   "metadata": {},
   "outputs": [],
   "source": [
    "net = cv2.dnn.readNet('C:/Users/ANKIT/Documents/covid19 mask/yolov3_training_last.weights',\n",
    "                      'C:/Users/ANKIT/Documents/covid19 mask/yolov3_testing.cfg')"
   ]
  },
  {
   "cell_type": "code",
   "execution_count": null,
   "metadata": {},
   "outputs": [],
   "source": [
    "classes = []\n",
    "with open(\"C:/Users/ANKIT/Documents/covid19 mask/classes.txt\",\"r\") as f:\n",
    "    classes = f.read().splitlines()"
   ]
  },
  {
   "cell_type": "code",
   "execution_count": null,
   "metadata": {},
   "outputs": [],
   "source": [
    "font = cv2.FONT_HERSHEY_SIMPLEX #it represent the front type and  It will show you how to draw different \n",
    "#style text on images using OpenCV library"
   ]
  },
  {
   "cell_type": "code",
   "execution_count": null,
   "metadata": {},
   "outputs": [],
   "source": [
    "label2category = {'Wearing Mask':0,'without_mask':1,'mask_weared_incorrect':2}\n",
    "category2color = {0:(0,255,0),1:(0,0,255),2:(0,0,255)}"
   ]
  },
  {
   "cell_type": "code",
   "execution_count": null,
   "metadata": {},
   "outputs": [],
   "source": [
    "cap = cv2.VideoCapture(0)\n",
    "while True:\n",
    "    # Capture frame-by-frame\n",
    "    ret, frame = cap.read()\n",
    "    height,width,_ = frame.shape\n",
    "    \n",
    "    \n",
    "# getLayerNames(): Get the name of all layers of the network.\n",
    "\n",
    "# getUnconnectedOutLayers(): Get the index of the output layers.\n",
    "\n",
    "    ln = net.getLayerNames()\n",
    "    ln = [ln[i[0] - 1] for i in net.getUnconnectedOutLayers()]\n",
    "    \n",
    "\n",
    "# construct a blob from the input image and then perform a forward\n",
    "# pass of the YOLO object detector, giving us our bounding boxes and\n",
    "# associated probabilities\n",
    "\n",
    "# we need to normalize, scale and reshape this image to be suitable as an input to the neural network: we do this \n",
    "# by cv2.dnn.blobFromImage\n",
    "    blob = cv2.dnn.blobFromImage(frame, 1 / 255.0, (416, 416),swapRB=True, crop=False)\n",
    "    net.setInput(blob)\n",
    "    \n",
    "# Now let's feed this image into the neural network to get the output predictions:\n",
    "# by net.forward\n",
    "    layerOutputs = net.forward(ln)\n",
    "    boxes = []\n",
    "    confidences = []\n",
    "    class_ids = []\n",
    "    for output in layerOutputs:\n",
    "        for detection in output:\n",
    "            scores = detection[5:]\n",
    "            classId = np.argmax(scores)\n",
    "            confidence = scores[classId]\n",
    "            if confidence>0.1:\n",
    "                center_x = int(detection[0]*width)\n",
    "                center_y = int(detection[1]*height)\n",
    "                \n",
    "                w = int(detection[2]*width)\n",
    "                h = int(detection[3]*height)\n",
    "                \n",
    "                x = int(center_x-w/2)\n",
    "                y = int(center_x-h/2)\n",
    "                boxes.append([x, y, w, h])\n",
    "                confidences.append((float(confidence)))\n",
    "                class_ids.append(classId)\n",
    "    indexes = cv2.dnn.NMSBoxes(boxes, confidences, 0.1, 0.4) #this function help to filter out most relevent boxes from image\n",
    "    # predicted by yolov3 architecture. cv2.dnn.MNSBoxes(boxes,confidences,confidence,threshold)\n",
    "    print(indexes)\n",
    "    if (len(indexes)>0):\n",
    "        for i in indexes.flatten():\n",
    "            print(i)\n",
    "            x , y, w, h = boxes[i]\n",
    "            label = str(classes[class_ids[i]])\n",
    "            print(label)\n",
    "            label1 = label2category[label]\n",
    "            confidence = str(round(confidences[i],2))\n",
    "            cv2.rectangle(frame, (x,y), (x+w, y+h), category2color[label1], 2)\n",
    "            cv2.putText(frame, label + \" \" + confidence, (x, y+10), font, 1,category2color[label1], 2)# help to write text on video\n",
    "\n",
    "    # Display the resulting frame\n",
    "    cv2.imshow('Image', frame)\n",
    "    if cv2.waitKey(1) & 0xFF == ord('q'):\n",
    "        break\n",
    "\n",
    "# When everything done, release the capture\n",
    "cap.release()\n",
    "cv2.destroyAllWindows()"
   ]
  }
 ],
 "metadata": {
  "kernelspec": {
   "display_name": "Python 3",
   "language": "python",
   "name": "python3"
  },
  "language_info": {
   "codemirror_mode": {
    "name": "ipython",
    "version": 3
   },
   "file_extension": ".py",
   "mimetype": "text/x-python",
   "name": "python",
   "nbconvert_exporter": "python",
   "pygments_lexer": "ipython3",
   "version": "3.7.4"
  }
 },
 "nbformat": 4,
 "nbformat_minor": 4
}
